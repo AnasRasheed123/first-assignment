{
 "cells": [
  {
   "cell_type": "code",
   "execution_count": 1,
   "metadata": {},
   "outputs": [
    {
     "name": "stdout",
     "output_type": "stream",
     "text": [
      "my name is M.ANAS RASHEED\n",
      "my phone number is 03367988678\n",
      "i am  19 year old\n",
      "I AM A STUDENT OF 1 SEM OF UBIT\n"
     ]
    }
   ],
   "source": [
    "name=\"M.ANAS RASHEED\"\n",
    "pho_num=\"03367988678\"\n",
    "old=\"19 year old\"\n",
    "classification=\"STUDENT OF 1 SEM OF UBIT\"\n",
    "print(\"my name is\",name)\n",
    "print(\"my phone number is\",pho_num)\n",
    "print(\"i am \",old)\n",
    "print(\"I AM A\",classification)\n"
   ]
  }
 ],
 "metadata": {
  "kernelspec": {
   "display_name": "Python 3",
   "language": "python",
   "name": "python3"
  },
  "language_info": {
   "codemirror_mode": {
    "name": "ipython",
    "version": 3
   },
   "file_extension": ".py",
   "mimetype": "text/x-python",
   "name": "python",
   "nbconvert_exporter": "python",
   "pygments_lexer": "ipython3",
   "version": "3.7.4"
  }
 },
 "nbformat": 4,
 "nbformat_minor": 2
}
